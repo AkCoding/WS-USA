{
 "cells": [
  {
   "cell_type": "code",
   "execution_count": 11,
   "id": "e585ff8e",
   "metadata": {},
   "outputs": [],
   "source": [
    "import pandas as pd\n",
    "import requests\n",
    "from bs4 import BeautifulSoup"
   ]
  },
  {
   "cell_type": "code",
   "execution_count": 12,
   "id": "6b54bd73",
   "metadata": {},
   "outputs": [],
   "source": [
    "url = 'https://www.lincolnapts.com/properties/the-flats-at-west-end-st-louis-park-mn/'"
   ]
  },
  {
   "cell_type": "code",
   "execution_count": 13,
   "id": "338d787d",
   "metadata": {},
   "outputs": [],
   "source": [
    "page = requests.get(url)"
   ]
  },
  {
   "cell_type": "code",
   "execution_count": 14,
   "id": "f8de2585",
   "metadata": {},
   "outputs": [],
   "source": [
    "soup = BeautifulSoup(page.content, 'html.parser')"
   ]
  },
  {
   "cell_type": "code",
   "execution_count": 15,
   "id": "c2243fc5",
   "metadata": {},
   "outputs": [
    {
     "data": {
      "text/plain": [
       "'The Flats at West End'"
      ]
     },
     "execution_count": 15,
     "metadata": {},
     "output_type": "execute_result"
    }
   ],
   "source": [
    "place_name = soup.find(attrs = {'class': \"prop-top-name\"}).text\n",
    "place_name"
   ]
  },
  {
   "cell_type": "code",
   "execution_count": 16,
   "id": "fc0d4aee",
   "metadata": {},
   "outputs": [
    {
     "data": {
      "text/plain": [
       "'5310 W. 16th Street St. Louis Park, MN 55416'"
      ]
     },
     "execution_count": 16,
     "metadata": {},
     "output_type": "execute_result"
    }
   ],
   "source": [
    "Address = soup.find(attrs = {'class': \"prop-top-address\"}).text.replace('\\n', \"\")\n",
    "Address"
   ]
  },
  {
   "cell_type": "code",
   "execution_count": 7,
   "id": "a6f1950c",
   "metadata": {},
   "outputs": [
    {
     "ename": "AttributeError",
     "evalue": "'NoneType' object has no attribute 'text'",
     "output_type": "error",
     "traceback": [
      "\u001b[0;31m---------------------------------------------------------------------------\u001b[0m",
      "\u001b[0;31mAttributeError\u001b[0m                            Traceback (most recent call last)",
      "\u001b[0;32m<ipython-input-7-28b44596efd2>\u001b[0m in \u001b[0;36m<module>\u001b[0;34m()\u001b[0m\n\u001b[0;32m----> 1\u001b[0;31m \u001b[0mbedroom\u001b[0m \u001b[0;34m=\u001b[0m \u001b[0msoup\u001b[0m\u001b[0;34m.\u001b[0m\u001b[0mfind\u001b[0m\u001b[0;34m(\u001b[0m\u001b[0mattrs\u001b[0m \u001b[0;34m=\u001b[0m \u001b[0;34m{\u001b[0m\u001b[0;34m'class'\u001b[0m\u001b[0;34m:\u001b[0m \u001b[0;34m\"info-copy floorplans-info\"\u001b[0m\u001b[0;34m}\u001b[0m\u001b[0;34m)\u001b[0m\u001b[0;34m.\u001b[0m\u001b[0mtext\u001b[0m\u001b[0;34m.\u001b[0m\u001b[0mreplace\u001b[0m\u001b[0;34m(\u001b[0m\u001b[0;34m'\\n'\u001b[0m\u001b[0;34m,\u001b[0m \u001b[0;34m\"\"\u001b[0m\u001b[0;34m)\u001b[0m\u001b[0;34m\u001b[0m\u001b[0;34m\u001b[0m\u001b[0m\n\u001b[0m",
      "\u001b[0;31mAttributeError\u001b[0m: 'NoneType' object has no attribute 'text'"
     ]
    }
   ],
   "source": [
    "# bedroom = soup.find(attrs = {'class': \"info-copy floorplans-info\"}).text.replace('\\n', \"\")"
   ]
  },
  {
   "cell_type": "code",
   "execution_count": 17,
   "id": "305839b1",
   "metadata": {},
   "outputs": [
    {
     "data": {
      "text/plain": [
       "'(952) 937-8363'"
      ]
     },
     "execution_count": 17,
     "metadata": {},
     "output_type": "execute_result"
    }
   ],
   "source": [
    "Contact = soup.find(attrs = {'class': \"prop-top-phone\"}).text.replace('\\n', \"\")\n",
    "Contact"
   ]
  },
  {
   "cell_type": "code",
   "execution_count": 18,
   "id": "6c68de42",
   "metadata": {},
   "outputs": [
    {
     "data": {
      "text/plain": [
       "'http://maps.google.com/maps?q=The+Flats+at+West+End,5310+W.+16th+Street,+St.+Louis+Park,+MN+55416'"
      ]
     },
     "execution_count": 18,
     "metadata": {},
     "output_type": "execute_result"
    }
   ],
   "source": [
    "map_url = soup.find(attrs = {'class': \"btn btn-color-primary map-it\"}).get('href')\n",
    "map_url"
   ]
  },
  {
   "cell_type": "code",
   "execution_count": 19,
   "id": "67ee815e",
   "metadata": {},
   "outputs": [
    {
     "data": {
      "text/plain": [
       "'119'"
      ]
     },
     "execution_count": 19,
     "metadata": {},
     "output_type": "execute_result"
    }
   ],
   "source": [
    "no_of_unit = soup.find(attrs = {'class': \"info-copy units-info\"}).text.replace('\\n', \"\")\n",
    "no_of_unit"
   ]
  },
  {
   "cell_type": "code",
   "execution_count": 20,
   "id": "24d63192",
   "metadata": {},
   "outputs": [
    {
     "data": {
      "text/plain": [
       "'Indoor, Climate Controlled Garage'"
      ]
     },
     "execution_count": 20,
     "metadata": {},
     "output_type": "execute_result"
    }
   ],
   "source": [
    "Parking = soup.find(attrs = {'class': \"info-copy parking-info\"}).text.replace('\\n', \"\")\n",
    "Parking"
   ]
  },
  {
   "cell_type": "code",
   "execution_count": 21,
   "id": "4ed0325a",
   "metadata": {},
   "outputs": [
    {
     "data": {
      "text/plain": [
       "'Top-Tier Amenities in a Lively Neighborhood'"
      ]
     },
     "execution_count": 21,
     "metadata": {},
     "output_type": "execute_result"
    }
   ],
   "source": [
    "Description_title = soup.find(attrs = {'class': \"content\"}).h1.text.replace('\\n', \"\")\n",
    "Description_title"
   ]
  },
  {
   "cell_type": "code",
   "execution_count": 10,
   "id": "4ff6b697",
   "metadata": {},
   "outputs": [],
   "source": [
    "DescriptionContent = soup.find(attrs = {'class': \"content read-more-container\"}).text.replace('\\n', \"\")"
   ]
  },
  {
   "cell_type": "code",
   "execution_count": null,
   "id": "82c46ebd",
   "metadata": {},
   "outputs": [],
   "source": []
  }
 ],
 "metadata": {
  "kernelspec": {
   "display_name": "Python 3",
   "language": "python",
   "name": "python3"
  },
  "language_info": {
   "codemirror_mode": {
    "name": "ipython",
    "version": 3
   },
   "file_extension": ".py",
   "mimetype": "text/x-python",
   "name": "python",
   "nbconvert_exporter": "python",
   "pygments_lexer": "ipython3",
   "version": "3.6.9"
  }
 },
 "nbformat": 4,
 "nbformat_minor": 5
}
