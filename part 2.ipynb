{
 "cells": [
  {
   "cell_type": "code",
   "execution_count": 1,
   "id": "349e871c",
   "metadata": {},
   "outputs": [],
   "source": [
    "import pandas as pd\n",
    "import requests\n",
    "from bs4 import BeautifulSoup"
   ]
  },
  {
   "cell_type": "code",
   "execution_count": 2,
   "id": "fa722d8f",
   "metadata": {},
   "outputs": [],
   "source": [
    "url = 'https://www.lincolnapts.com/search#?lat=44.93353019999999&long=-93.3453483'"
   ]
  },
  {
   "cell_type": "code",
   "execution_count": 3,
   "id": "c38ba434",
   "metadata": {},
   "outputs": [],
   "source": [
    "page = requests.get(url)"
   ]
  },
  {
   "cell_type": "code",
   "execution_count": 4,
   "id": "e7399c6d",
   "metadata": {},
   "outputs": [],
   "source": [
    "soup = BeautifulSoup(page.content, 'html.parser')"
   ]
  },
  {
   "cell_type": "code",
   "execution_count": 5,
   "id": "cc3d647c",
   "metadata": {},
   "outputs": [],
   "source": [
    "movie_containers = soup.find_all('div', class_= 'column small-11 medium-10')"
   ]
  },
  {
   "cell_type": "code",
   "execution_count": 6,
   "id": "929ae72a",
   "metadata": {},
   "outputs": [
    {
     "name": "stdout",
     "output_type": "stream",
     "text": [
      "<class 'bs4.element.ResultSet'>\n",
      "2\n"
     ]
    }
   ],
   "source": [
    "print(type(movie_containers))\n",
    "print(len(movie_containers))"
   ]
  },
  {
   "cell_type": "code",
   "execution_count": 7,
   "id": "82ea14db",
   "metadata": {},
   "outputs": [
    {
     "data": {
      "text/plain": [
       "<div class=\"column small-11 medium-10\">\n",
       "<a href=\"/properties/{{prop.slug}}\">\n",
       "<h4>{{prop.name}}</h4>\n",
       "</a>\n",
       "<div class=\"row collapse align-middle align-left location-price\">\n",
       "<div class=\"column city-state shrink\">\n",
       "{{prop.city}}, {{prop.state}}\n",
       "</div>\n",
       "<div class=\"column price shrink\">\n",
       "<span ng-if=\"prop.price_min\">${{prop.price_min}}</span>\n",
       "<span ng-if=\"prop.price_max\">to ${{prop.price_max}}</span>\n",
       "</div>\n",
       "</div>\n",
       "<ul class=\"bedrooms\">\n",
       "<li ng-repeat=\"range in prop.property_id | ranges | limitTo:1  track by $index\">\n",
       "<b>Bedrooms:</b>\n",
       "</li>\n",
       "<li ng-repeat=\"range in prop.property_id | ranges | limitTo:4  track by $index\">\n",
       "{{range}}\n",
       "</li>\n",
       "</ul>\n",
       "<div class=\"full-address\">\n",
       "<a href='https://maps.google.com/maps/dir/?api=1&amp;destination={{prop.name.split(\" \").join(\"+\").replace(\"&amp;\",\"and\")}},+{{prop.address.split(\" \").join(\"+\")}}+{{prop.city.split(\" \").join(\"+\")}},+{{prop.state.split(\" \").join(\"+\")}}+{{prop.zip}}' target=\"_blank\">\n",
       "{{prop.address}} {{prop.city}}, {{prop.state}} {{prop.zip}}\n",
       "</a>\n",
       "</div>\n",
       "<div class=\"prop-phone-number\">\n",
       "<a href=\"tel:{{prop.contact_phone}}\">\n",
       "{{prop.contact_phone | tel}}\n",
       "</a>\n",
       "</div>\n",
       "<div class=\"row collapse prop-actions\">\n",
       "<div class=\"column small-7 large-6\">\n",
       "<div class=\"link relative\">\n",
       "<i class=\"fas fa-arrow-right\"></i>\n",
       "<a class=\"teaser-link\" data-content=\"Learn More\" href=\"/properties/{{prop.slug}}\" title=\"Learn More\">\n",
       "<span>Learn More</span>\n",
       "</a>\n",
       "</div>\n",
       "</div>\n",
       "<div class=\"column small-5 large-6\">\n",
       "<a class=\"mapit\" href='https://maps.google.com/maps/?q={{prop.name.split(\" \").join(\"+\").replace(\"&amp;\",\"and\")}},+{{prop.address.split(\" \").join(\"+\")}}+{{prop.city.split(\" \").join(\"+\")}},+{{prop.state.split(\" \").join(\"+\")}}+{{prop.zip}}' target=\"_blank\">\n",
       "<i class=\"far fa-map-marker-alt\"></i>\n",
       "<span>\n",
       "Map It\n",
       "</span>\n",
       "</a>\n",
       "</div>\n",
       "</div>\n",
       "</div>"
      ]
     },
     "execution_count": 7,
     "metadata": {},
     "output_type": "execute_result"
    }
   ],
   "source": [
    "movie_containers[1]"
   ]
  },
  {
   "cell_type": "code",
   "execution_count": null,
   "id": "546a4c5c",
   "metadata": {},
   "outputs": [],
   "source": []
  },
  {
   "cell_type": "code",
   "execution_count": null,
   "id": "81ddad87",
   "metadata": {},
   "outputs": [],
   "source": []
  }
 ],
 "metadata": {
  "kernelspec": {
   "display_name": "Python 3",
   "language": "python",
   "name": "python3"
  },
  "language_info": {
   "codemirror_mode": {
    "name": "ipython",
    "version": 3
   },
   "file_extension": ".py",
   "mimetype": "text/x-python",
   "name": "python",
   "nbconvert_exporter": "python",
   "pygments_lexer": "ipython3",
   "version": "3.6.9"
  }
 },
 "nbformat": 4,
 "nbformat_minor": 5
}
